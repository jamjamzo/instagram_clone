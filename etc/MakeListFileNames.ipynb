{
 "cells": [
  {
   "cell_type": "code",
   "execution_count": 6,
   "id": "9fddc9fa",
   "metadata": {},
   "outputs": [],
   "source": [
    "import os\n",
    "path = '/Users/zojamjam/Desktop/Project_flutter/instagram_clone/assets/images'\n",
    "file_names = os.listdir(path)"
   ]
  },
  {
   "cell_type": "code",
   "execution_count": 7,
   "id": "bf33bf9b",
   "metadata": {},
   "outputs": [
    {
     "data": {
      "text/plain": [
       "['assets/images/.DS_Store',\n",
       " 'assets/images/coffee&donuts.jpeg',\n",
       " 'assets/images/Untitled.ipynb',\n",
       " 'assets/images/IMG_4239.JPG',\n",
       " 'assets/images/IMG_4476.jpeg',\n",
       " 'assets/images/IMG_4344.JPG',\n",
       " 'assets/images/IMG_4386.JPG',\n",
       " 'assets/images/IMG_4442.jpeg',\n",
       " 'assets/images/IMG_0339.jpeg',\n",
       " 'assets/images/.ipynb_checkpoints',\n",
       " 'assets/images/IMG_4332.JPG',\n",
       " 'assets/images/IMG_4245.JPG',\n",
       " 'assets/images/IMG_0348.jpeg',\n",
       " 'assets/images/IMG_0325.jpeg',\n",
       " 'assets/images/IMG_0333.jpeg']"
      ]
     },
     "execution_count": 7,
     "metadata": {},
     "output_type": "execute_result"
    }
   ],
   "source": [
    "file_list = []\n",
    "for f in file_names:\n",
    "    file_list.append(f\"assets/images/{f}\")\n",
    "file_list"
   ]
  },
  {
   "cell_type": "code",
   "execution_count": null,
   "id": "2fe9bcf4",
   "metadata": {},
   "outputs": [],
   "source": []
  }
 ],
 "metadata": {
  "kernelspec": {
   "display_name": "Python 3 (ipykernel)",
   "language": "python",
   "name": "python3"
  },
  "language_info": {
   "codemirror_mode": {
    "name": "ipython",
    "version": 3
   },
   "file_extension": ".py",
   "mimetype": "text/x-python",
   "name": "python",
   "nbconvert_exporter": "python",
   "pygments_lexer": "ipython3",
   "version": "3.10.0"
  }
 },
 "nbformat": 4,
 "nbformat_minor": 5
}
